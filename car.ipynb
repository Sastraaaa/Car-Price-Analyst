{
 "cells": [
  {
   "cell_type": "markdown",
   "metadata": {},
   "source": [
    "SPORT CAR PRICE"
   ]
  },
  {
   "cell_type": "markdown",
   "metadata": {},
   "source": [
    "10122391 - ARIF REFIANTO"
   ]
  },
  {
   "cell_type": "markdown",
   "metadata": {},
   "source": [
    "10122397 - KHARISMA SASTRAWANSYAH"
   ]
  },
  {
   "cell_type": "markdown",
   "metadata": {},
   "source": [
    "10122418 - AWANG AYUDA"
   ]
  },
  {
   "cell_type": "markdown",
   "metadata": {},
   "source": [
    "10122419 - BALQIS AL ZAHRA"
   ]
  },
  {
   "cell_type": "markdown",
   "metadata": {},
   "source": [
    "<img src=\"Dokumentasi1.jpg\" style=\"width:800px;height:600px\"/>"
   ]
  },
  {
   "cell_type": "markdown",
   "metadata": {},
   "source": [
    "<img src=\"Dokumentasi2.jpg\" style=\"width:800px;height:600px\"/>"
   ]
  },
  {
   "cell_type": "markdown",
   "metadata": {},
   "source": [
    "<img src=\"Dokumentasi3.jpg\" style=\"width:800px;height:600px\"/>"
   ]
  },
  {
   "cell_type": "markdown",
   "metadata": {},
   "source": [
    "<img src=\"Dokumentasi4.jpg\" style=\"width:800px;height:600px\"/>"
   ]
  },
  {
   "cell_type": "markdown",
   "metadata": {},
   "source": [
    "<img src=\"Dokumentasi5.jpg\" style=\"width:800px;height:600px\"/>"
   ]
  },
  {
   "cell_type": "markdown",
   "metadata": {},
   "source": [
    "Latar Belakang dari Dataset Penjualan Mobil :\n",
    "- Keterkaitan Fitur Mobil: Menyediakan informasi tentang hubungan antara berbagai fitur mobil, seperti model, tahun keluaran, daya kuda (hp), berat, dan\n",
    "  harga. Hal ini dapat membantu mengidentifikasi pola atau korelasi yang dapat digunakan untuk pengambilan keputusan lebih lanjut.\n",
    "- Pemahaman Variabilitas Harga: Memberikan wawasan tentang variasi harga mobil berdasarkan atribut-atribut tertentu. Ini dapat melibatkan penelusuran\n",
    "  perbedaan harga antara mobil dengan spesifikasi yang serupa atau pengidentifikasian faktor-faktor utama yang mempengaruhi harga."
   ]
  },
  {
   "cell_type": "markdown",
   "metadata": {},
   "source": [
    "Tujuan dari Dataset Penjualan Mobil :\n",
    "- Melakukan analisis tren harga mobil berdasarkan model dan tahun keluaran. Dengan melihat perubahan harga rata-rata tiap model mobil sepanjang\n",
    "  beberapa tahun, Anda bisa mempelajari bagaimana harga mobil cenderung berubah seiring waktu. \n",
    "- Memvisualisasikan data untuk melihat distribusi dan perbandingan harga mobil berdasarkan model, tahun, dan spesifikasi lainnya."
   ]
  },
  {
   "cell_type": "markdown",
   "metadata": {},
   "source": [
    "LIBRARY YANG HARUS DI INSTALL :\n",
    "- pandas\n",
    "- numpy\n",
    "- scipy\n",
    "- seaborn\n",
    "- matplotlib\n",
    "- requests\n",
    "- folium\n",
    "- random"
   ]
  },
  {
   "cell_type": "markdown",
   "metadata": {},
   "source": [
    "MENAMPILKAN ISI DARI DATASET"
   ]
  },
  {
   "cell_type": "code",
   "execution_count": null,
   "metadata": {},
   "outputs": [],
   "source": [
    "import pandas as pd\n",
    "import numpy as np\n",
    "\n",
    "df = pd.read_csv('Sport car price.csv')\n",
    "print(df.head().to_string(index=False))"
   ]
  },
  {
   "cell_type": "markdown",
   "metadata": {},
   "source": [
    "EKSPLORASI DATA:\n",
    "\n",
    "- Menambahkan kolom country (asal negara tiap merek)\n",
    "- Memeriksa jumlah baris dan kolom\n",
    "- Menampilkan data teratas\n",
    "- Menampilkan tipe data tiap kolom\n",
    "- Memeriksa missing value / data kosong pada setiap kolom "
   ]
  },
  {
   "cell_type": "code",
   "execution_count": null,
   "metadata": {},
   "outputs": [],
   "source": [
    "import pandas as pd\n",
    "\n",
    "df['Country'] = df['Car Make'].apply(lambda nama: {\n",
    "'Porsche': 'Jerman',\n",
    "'Lamborghini': 'Italia',\n",
    "'Ferrari': 'Italia',\n",
    "'Audi': 'Jerman',\n",
    "'McLaren': 'Inggris',\n",
    "'BMW': 'Jerman',\n",
    "'Mercedes-Benz': 'Jerman',\n",
    "'Mercedes-AMG': 'Jerman',\n",
    "'Chevrolet': 'Amerika',\n",
    "'Ford': 'Amerika',\n",
    "'Nissan': 'Jepang',\n",
    "'Aston Martin': 'Inggris',\n",
    "'Bugatti': 'Prancis',\n",
    "'Dodge': 'Amerika',\n",
    "'Jaguar': 'Inggris',\n",
    "'Koenigsegg': 'Swedia',\n",
    "'Lexus': 'Jepang',\n",
    "'Lotus': 'Inggris',\n",
    "'Maserati': 'Italia',\n",
    "'Pagani': 'Italia',\n",
    "'Rimac': 'Kroasia',\n",
    "'Rolls-Royce': 'Inggris',\n",
    "'Tesla': 'Amerika',\n",
    "'Toyota': 'Jepang',\n",
    "'TVR': 'Inggris',\n",
    "'Ultima': 'Inggris',\n",
    "'W Motors': 'Lebanon',\n",
    "'Alpine': 'Prancis',\n",
    "'Alfa Romeo': 'Italia',\n",
    "'Bentley': 'Inggris',\n",
    "'Subaru': 'Jepang',\n",
    "'Acura': 'Jepang',\n",
    "'Ariel': 'Inggris',\n",
    "'Kia': 'Korea Selatan',\n",
    "'Pininfarina': 'Italia',\n",
    "'Shelby': 'Amerika',\n",
    "'Mazda': 'Jepang',\n",
    "}.get(nama, 'Tidak Diketahui'))\n",
    "\n",
    "df.to_csv('Sport car price updated.csv', index=False)\n",
    "    \n",
    "baris, kolom = df.shape\n",
    "print(f\"Data frame memiliki {baris} baris dan {kolom} kolom\\n\")\n",
    "    \n",
    "jumlah_data_teratas = df.head().to_string(index=False) \n",
    "print(f\"Jumlah data teratas:\\n{jumlah_data_teratas}\\n\")\n",
    "    \n",
    "tipe_data = df.dtypes\n",
    "print(f\"Tipe data setiap kolom:\\n{tipe_data}\\n\")\n",
    "    \n",
    "data_kosong = df.isnull().sum().sum()\n",
    "print(f\"Jumlah Data kosong pada setiap kolom:{data_kosong}\\n\")\n",
    "    \n",
    "    \n"
   ]
  },
  {
   "cell_type": "markdown",
   "metadata": {},
   "source": [
    "DATA CLEANING:\n",
    "\n",
    "- Cek Outlier \n",
    "- Visualisasi Distribusi pada setiap kolom"
   ]
  },
  {
   "cell_type": "code",
   "execution_count": null,
   "metadata": {},
   "outputs": [],
   "source": [
    "import pandas as pd\n",
    "import numpy as np \n",
    "from scipy import stats\n",
    "import seaborn as sns\n",
    "import matplotlib.pyplot as plt\n",
    "\n",
    "# df['Price (in USD)'] = df['Price (in USD)'].str.replace(',','').astype(float)\n",
    "\n",
    "numeric_cols = df.select_dtypes(include=[np.number])\n",
    "\n",
    "z = np.abs(stats.zscore(numeric_cols))\n",
    "df = df[(z < 3).all(axis=1)]\n",
    "\n",
    "print(df.to_string(index=False))\n",
    "\n",
    "fig, axes = plt.subplots(nrows=3, ncols=3, figsize=(12, 12))\n",
    "\n",
    "for i, col in enumerate(df.columns):\n",
    "    sns.histplot(x=df[col], ax=axes[i//3, i%3])\n",
    "    axes[i//3, i%3].set_title(f\"Distribusi dari {col}\")\n",
    "    \n",
    "plt.tight_layout()\n",
    "plt.show()"
   ]
  },
  {
   "cell_type": "markdown",
   "metadata": {},
   "source": [
    "ANALISIS DATA:\n",
    "\n",
    "- Analisis tren harga mobil berdasarkan model dan tahun keluaran"
   ]
  },
  {
   "cell_type": "code",
   "execution_count": null,
   "metadata": {},
   "outputs": [],
   "source": [
    "import pandas as pd\n",
    "\n",
    "grouped = df.groupby(['Car Make','Car Model', 'Year'])['Price (in USD)'].mean().reset_index()\n",
    "        \n",
    "print(grouped.sort_values(\"Car Model\"))\n",
    "\n",
    "df.dtypes\n",
    "                            "
   ]
  },
  {
   "cell_type": "markdown",
   "metadata": {},
   "source": [
    "VISUALISASI:\n",
    "- Memvisualisasikan data untuk melihat distribusi dan perbandingan harga mobil berdasarkan model, tahun, dan spesifikasi lainnya."
   ]
  },
  {
   "cell_type": "markdown",
   "metadata": {},
   "source": [
    "Visualisasi Data Latar Belakang nomor 2"
   ]
  },
  {
   "cell_type": "code",
   "execution_count": null,
   "metadata": {},
   "outputs": [],
   "source": [
    "import pandas as pd\n",
    "import matplotlib.pyplot as plt\n",
    "import seaborn as sns\n",
    "import numpy as np\n",
    "\n",
    "# Membaca data dari file CSV\n",
    "df = pd.read_csv('Sport car price updated.csv')\n",
    "\n",
    "# Memilih hanya data untuk tiga mobil: Porsche, Lamborghini, Ferrari\n",
    "selected_cars = df[df['Car Make'].isin(['Porsche', 'Lamborghini', 'Ferrari'])]\n",
    "\n",
    "# Mengubah format 'Price (in USD)' dari string ke numeric menggunakan NumPy\n",
    "selected_cars.loc[:, 'Price (in USD)'] = selected_cars['Price (in USD)'].replace(r'[^\\d.]', '', regex=True).astype(float)\n",
    "\n",
    "# Membuat subplot perbandingan harga dari tahun ke tahun untuk setiap mobil\n",
    "fig, axes = plt.subplots(nrows=1, ncols=3, figsize=(15, 5), sharey=True)\n",
    "\n",
    "for i, (car_make, ax) in enumerate(zip(selected_cars['Car Make'].unique(), axes.flatten())):\n",
    "    car_data = selected_cars[selected_cars['Car Make'] == car_make]\n",
    "    sns.lineplot(x='Year', y='Price (in USD)', data=car_data, marker='o', ax=ax)\n",
    "    ax.set_title(f'{car_make} - Harga dari Tahun ke Tahun')\n",
    "    ax.set_xlabel('Year')\n",
    "    ax.set_ylabel('Price (in USD)')\n",
    "\n",
    "plt.tight_layout()\n",
    "plt.show()\n"
   ]
  },
  {
   "cell_type": "markdown",
   "metadata": {},
   "source": [
    "Visualisasi Data Tujuan nomor 1"
   ]
  },
  {
   "cell_type": "code",
   "execution_count": null,
   "metadata": {},
   "outputs": [],
   "source": [
    "import pandas as pd\n",
    "import matplotlib.pyplot as plt\n",
    "import seaborn as sns\n",
    "import numpy as np\n",
    "\n",
    "# Membaca data dari file CSV\n",
    "df = pd.read_csv('Sport car price updated.csv')\n",
    "\n",
    "# Memilih hanya data untuk tiga mobil: Porsche, Lamborghini, Ferrari\n",
    "selected_cars = df[df['Car Make'].isin(['Porsche', 'Lamborghini', 'Ferrari'])]\n",
    "\n",
    "# Mengubah format 'Price (in USD)' dari string ke numeric menggunakan NumPy\n",
    "selected_cars.loc[:, 'Price (in USD)'] = selected_cars['Price (in USD)'].replace(r'[^\\d.]', '', regex=True).astype(float)\n",
    "\n",
    "# Membuat subplot analisis tren harga berdasarkan model\n",
    "plt.figure(figsize=(12, 8))\n",
    "sns.lineplot(x='Year', y='Price (in USD)', hue='Car Make', data=selected_cars.groupby(['Car Make', 'Year'])['Price (in USD)'].mean().reset_index(), err_style=None, marker='o', palette='Set1')\n",
    "plt.title('Analisis Tren Harga Mobil Berdasarkan Model')\n",
    "plt.xlabel('Year')\n",
    "plt.ylabel('Average Price (in USD)')\n",
    "plt.legend(title='Car Make')\n",
    "plt.show()\n"
   ]
  },
  {
   "cell_type": "markdown",
   "metadata": {},
   "source": [
    "Georapich Information System"
   ]
  },
  {
   "cell_type": "code",
   "execution_count": null,
   "metadata": {},
   "outputs": [],
   "source": [
    "import pandas as pd\n",
    "import requests\n",
    "\n",
    "# Fungsi untuk mendapatkan koordinat dari nama negara menggunakan Nominatim\n",
    "def get_coordinates(country):\n",
    "    base_url = 'https://nominatim.openstreetmap.org/search'\n",
    "    params = {\n",
    "        'q': country,\n",
    "        'format': 'json',\n",
    "        'limit': 1\n",
    "    }\n",
    "    response = requests.get(base_url, params=params)\n",
    "    if response.status_code == 200:\n",
    "        result = response.json()\n",
    "        if result:\n",
    "            latitude = float(result[0]['lat'])\n",
    "            longitude = float(result[0]['lon'])\n",
    "            return latitude, longitude\n",
    "    return None, None\n",
    "\n",
    "# Membaca dataset\n",
    "df = pd.read_csv('Sport car price updated.csv')  # Ganti 'nama_file.csv' dengan nama file dataset Anda\n",
    "\n",
    "# Mendapatkan koordinat untuk setiap negara dalam dataset\n",
    "latitudes = []\n",
    "longitudes = []\n",
    "for country in df['Country']:\n",
    "    latitude, longitude = get_coordinates(country)\n",
    "    latitudes.append(latitude)\n",
    "    longitudes.append(longitude)\n",
    "\n",
    "# Menambahkan kolom latitude dan longitude ke dalam dataset\n",
    "df['Latitude'] = latitudes\n",
    "df['Longitude'] = longitudes\n",
    "\n",
    "# Menyimpan data ke dalam file CSV\n",
    "df.to_csv('Sport car coor.csv', index=False)\n"
   ]
  },
  {
   "cell_type": "code",
   "execution_count": null,
   "metadata": {},
   "outputs": [],
   "source": [
    "import pandas as pd\n",
    "import folium\n",
    "import random\n",
    "\n",
    "# Membaca dataset yang telah diperluas dengan koordinat\n",
    "df = pd.read_csv('Sport car coor.csv')  # Ganti 'Sport car coor.csv' dengan nama file dataset Anda\n",
    "\n",
    "# Inisialisasi peta\n",
    "m = folium.Map(location=[0, 0], zoom_start=2)\n",
    "\n",
    "# Dictionary untuk melacak koordinat yang telah digunakan\n",
    "used_coords = {}\n",
    "\n",
    "# Menambahkan marker untuk setiap entitas dalam dataset\n",
    "for i, row in df.iterrows():\n",
    "    country = row['Country']\n",
    "    if not pd.isnull(row['Latitude']) and not pd.isnull(row['Longitude']):\n",
    "        # Mendapatkan koordinat yang telah digunakan untuk negara tersebut\n",
    "        used_coord = used_coords.get(country, [])\n",
    "        \n",
    "        # Menambahkan sedikit variasi ke koordinat untuk menghindari tumpang tindih\n",
    "        noise = (random.random()-0.5) / 10  # Menambahkan noise ke latitude\n",
    "        new_lat = row['Latitude'] + noise\n",
    "        noise = (random.random()-0.5) / 10  # Menambahkan noise ke longitude\n",
    "        new_long = row['Longitude'] + noise\n",
    "        \n",
    "        # Jika koordinat telah digunakan, tambahkan variasi\n",
    "        while (new_lat, new_long) in used_coord:\n",
    "            noise = (random.random()-0.5) / 10\n",
    "            new_lat = row['Latitude'] + noise\n",
    "            noise = (random.random()-0.5) / 10\n",
    "            new_long = row['Longitude'] + noise\n",
    "        \n",
    "        # Tambahkan koordinat ke dalam koordinat yang telah digunakan\n",
    "        used_coord.append((new_lat, new_long))\n",
    "        used_coords[country] = used_coord\n",
    "        \n",
    "        popup_text = f\"{row['Car Make']} - {row['Car Model']}\"\n",
    "        folium.Marker([new_lat, new_long], popup=popup_text).add_to(m)\n",
    "\n",
    "# Menyimpan peta sebagai file HTML\n",
    "m.save('car map.html')\n",
    "\n",
    "# Menampilkan peta\n",
    "m\n"
   ]
  }
 ],
 "metadata": {
  "kernelspec": {
   "display_name": "Python 3 (ipykernel)",
   "language": "python",
   "name": "python3"
  },
  "language_info": {
   "codemirror_mode": {
    "name": "ipython",
    "version": 3
   },
   "file_extension": ".py",
   "mimetype": "text/x-python",
   "name": "python",
   "nbconvert_exporter": "python",
   "pygments_lexer": "ipython3",
   "version": "3.12.1"
  }
 },
 "nbformat": 4,
 "nbformat_minor": 4
}
