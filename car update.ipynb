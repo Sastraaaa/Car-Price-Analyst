{
 "cells": [
  {
   "cell_type": "markdown",
   "metadata": {},
   "source": [
    "Latar Belakang dari Dataset Penjualan Mobil :\n",
    "- Keterkaitan Fitur Mobil: Menyediakan informasi tentang hubungan antara berbagai fitur mobil, seperti model, tahun keluaran, daya kuda (hp), berat, dan\n",
    "  harga. Hal ini dapat membantu mengidentifikasi pola atau korelasi yang dapat digunakan untuk pengambilan keputusan lebih lanjut.\n",
    "- Pemahaman Variabilitas Harga: Memberikan wawasan tentang variasi harga mobil berdasarkan atribut-atribut tertentu. Ini dapat melibatkan penelusuran\n",
    "  perbedaan harga antara mobil dengan spesifikasi yang serupa atau pengidentifikasian faktor-faktor utama yang mempengaruhi harga."
   ]
  },
  {
   "cell_type": "markdown",
   "metadata": {},
   "source": [
    "Tujuan dari Dataset Penjualan Mobil :\n",
    "- Melakukan analisis tren harga mobil berdasarkan model dan tahun keluaran. Dengan melihat perubahan harga rata-rata tiap model mobil sepanjang\n",
    "  beberapa tahun, Anda bisa mempelajari bagaimana harga mobil cenderung berubah seiring waktu. \n",
    "- Memvisualisasikan data untuk melihat distribusi dan perbandingan harga mobil berdasarkan model, tahun, dan spesifikasi lainnya."
   ]
  },
  {
   "cell_type": "markdown",
   "metadata": {},
   "source": [
    "MENAMPILKAN ISI DARI DATASET"
   ]
  },
  {
   "cell_type": "code",
   "execution_count": null,
   "metadata": {},
   "outputs": [],
   "source": [
    "import pandas as pd\n",
    "import numpy as np\n",
    "\n",
    "df = pd.read_csv('Sport car price.csv')\n",
    "print(df.head().to_string(index=False))"
   ]
  },
  {
   "cell_type": "markdown",
   "metadata": {},
   "source": [
    "EKSPLORASI DATA:\n",
    "\n",
    "- Menambahkan kolom country (asal negara tiap merek)\n",
    "- Memeriksa jumlah baris dan kolom\n",
    "- Menampilkan data teratas\n",
    "- Menampilkan tipe data tiap kolom\n",
    "- Memeriksa missing value / data kosong pada setiap kolom "
   ]
  },
  {
   "cell_type": "code",
   "execution_count": null,
   "metadata": {},
   "outputs": [],
   "source": [
    "import pandas as pd\n",
    "\n",
    "df['Country'] = df['Car Make'].apply(lambda nama: {\n",
    "'Porsche': 'Jerman',\n",
    "'Lamborghini': 'Italia',\n",
    "'Ferrari': 'Italia',\n",
    "'Audi': 'Jerman',\n",
    "'McLaren': 'Inggris',\n",
    "'BMW': 'Jerman',\n",
    "'Mercedes-Benz': 'Jerman',\n",
    "'Mercedes-AMG': 'Jerman',\n",
    "'Chevrolet': 'Amerika',\n",
    "'Ford': 'Amerika',\n",
    "'Nissan': 'Jepang',\n",
    "'Aston Martin': 'Inggris',\n",
    "'Bugatti': 'Prancis',\n",
    "'Dodge': 'Amerika',\n",
    "'Jaguar': 'Inggris',\n",
    "'Koenigsegg': 'Swedia',\n",
    "'Lexus': 'Jepang',\n",
    "'Lotus': 'Inggris',\n",
    "'Maserati': 'Italia',\n",
    "'Pagani': 'Italia',\n",
    "'Rimac': 'Kroasia',\n",
    "'Rolls-Royce': 'Inggris',\n",
    "'Tesla': 'Amerika',\n",
    "'Toyota': 'Jepang',\n",
    "'TVR': 'Inggris',\n",
    "'Ultima': 'Inggris',\n",
    "'W Motors': 'Lebanon',\n",
    "'Alpine': 'Prancis',\n",
    "'Alfa Romeo': 'Italia',\n",
    "'Bentley': 'Inggris',\n",
    "'Subaru': 'Jepang',\n",
    "'Acura': 'Jepang',\n",
    "'Ariel': 'Inggris',\n",
    "'Kia': 'Korea Selatan',\n",
    "'Pininfarina': 'Italia',\n",
    "'Shelby': 'Amerika',\n",
    "'Mazda': 'Jepang',\n",
    "}.get(nama, 'Tidak Diketahui'))\n",
    "\n",
    "df.to_csv('Sport car price updated.csv', index=False)\n",
    "    \n",
    "baris, kolom = df.shape\n",
    "print(f\"Data frame memiliki {baris} baris dan {kolom} kolom\\n\")\n",
    "    \n",
    "jumlah_data_teratas = df.head().to_string(index=False) \n",
    "print(f\"Jumlah data teratas:\\n{jumlah_data_teratas}\\n\")\n",
    "    \n",
    "tipe_data = df.dtypes\n",
    "print(f\"Tipe data setiap kolom:\\n{tipe_data}\\n\")\n",
    "    \n",
    "data_kosong = df.isnull().sum().sum()\n",
    "print(f\"Jumlah Data kosong pada setiap kolom:{data_kosong}\\n\")\n",
    "    \n",
    "    \n"
   ]
  },
  {
   "cell_type": "markdown",
   "metadata": {},
   "source": [
    "DATA CLEANING:\n",
    "\n",
    "- Cek Outlier \n",
    "- Visualisasi Distribusi pada setiap kolom"
   ]
  },
  {
   "cell_type": "code",
   "execution_count": null,
   "metadata": {},
   "outputs": [],
   "source": [
    "import pandas as pd\n",
    "import numpy as np \n",
    "from scipy import stats\n",
    "import seaborn as sns\n",
    "import matplotlib.pyplot as plt\n",
    "\n",
    "# df['Price (in USD)'] = df['Price (in USD)'].str.replace(',','').astype(float)\n",
    "\n",
    "numeric_cols = df.select_dtypes(include=[np.number])\n",
    "\n",
    "z = np.abs(stats.zscore(numeric_cols))\n",
    "df = df[(z < 3).all(axis=1)]\n",
    "\n",
    "print(df.to_string(index=False))\n",
    "\n",
    "fig, axes = plt.subplots(nrows=3, ncols=3, figsize=(12, 12))\n",
    "\n",
    "for i, col in enumerate(df.columns):\n",
    "    sns.histplot(x=df[col], ax=axes[i//3, i%3])\n",
    "    axes[i//3, i%3].set_title(f\"Distribusi dari {col}\")\n",
    "    \n",
    "plt.tight_layout()\n",
    "plt.show()"
   ]
  },
  {
   "cell_type": "markdown",
   "metadata": {},
   "source": [
    "ANALISIS DATA:\n",
    "\n",
    "- Analisis tren harga mobil berdasarkan model dan tahun keluaran"
   ]
  },
  {
   "cell_type": "code",
   "execution_count": 16,
   "metadata": {},
   "outputs": [
    {
     "name": "stdout",
     "output_type": "stream",
     "text": [
      "        Car Make    Car Model  Year  Price (in USD)\n",
      "178     Polestar            1  2021   155000.000000\n",
      "173       Nissan         370Z  2021    30496.111111\n",
      "174       Nissan   370Z Coupe  2020    30090.000000\n",
      "176       Nissan   370Z Nismo  2021    46164.000000\n",
      "175       Nissan   370Z Nismo  2020    46498.750000\n",
      "..           ...          ...   ...             ...\n",
      "207  Rolls-Royce       Wraith  2021   331935.714286\n",
      "56           BMW      Z4 M40i  2022    63700.000000\n",
      "57           BMW  Z4 Roadster  2022    50000.000000\n",
      "59           BMW           i8  2022   147833.333333\n",
      "58           BMW           i8  2020   148500.000000\n",
      "\n",
      "[221 rows x 4 columns]\n"
     ]
    },
    {
     "data": {
      "text/plain": [
       "Car Make                    object\n",
       "Car Model                   object\n",
       "Year                         int64\n",
       "Engine Size (L)             object\n",
       "Horsepower                  object\n",
       "Torque (lb-ft)              object\n",
       "0-60 MPH Time (seconds)     object\n",
       "Price (in USD)             float64\n",
       "Country                     object\n",
       "dtype: object"
      ]
     },
     "execution_count": 16,
     "metadata": {},
     "output_type": "execute_result"
    }
   ],
   "source": [
    "import pandas as pd\n",
    "\n",
    "grouped = df.groupby(['Car Make','Car Model', 'Year'])['Price (in USD)'].mean().reset_index()\n",
    "        \n",
    "print(grouped.sort_values(\"Car Model\"))\n",
    "\n",
    "df.dtypes\n",
    "                            "
   ]
  },
  {
   "cell_type": "markdown",
   "metadata": {},
   "source": [
    "VISUALISASI:\n",
    "- Memvisualisasikan data untuk melihat distribusi dan perbandingan harga mobil berdasarkan model, tahun, dan spesifikasi lainnya."
   ]
  },
  {
   "cell_type": "code",
   "execution_count": null,
   "metadata": {},
   "outputs": [],
   "source": []
  }
 ],
 "metadata": {
  "kernelspec": {
   "display_name": "Python 3 (ipykernel)",
   "language": "python",
   "name": "python3"
  },
  "language_info": {
   "codemirror_mode": {
    "name": "ipython",
    "version": 3
   },
   "file_extension": ".py",
   "mimetype": "text/x-python",
   "name": "python",
   "nbconvert_exporter": "python",
   "pygments_lexer": "ipython3",
   "version": "3.12.1"
  }
 },
 "nbformat": 4,
 "nbformat_minor": 4
}
